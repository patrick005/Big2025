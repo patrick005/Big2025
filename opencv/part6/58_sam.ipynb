{
 "cells": [
  {
   "cell_type": "code",
   "execution_count": 1,
   "id": "47f1eeb3",
   "metadata": {},
   "outputs": [
    {
     "name": "stdout",
     "output_type": "stream",
     "text": [
      "Defaulting to user installation because normal site-packages is not writeable\n",
      "Collecting git+https://github.com/facebookresearch/segment-anything.git\n",
      "  Cloning https://github.com/facebookresearch/segment-anything.git to /tmp/pip-req-build-zi68oodo\n",
      "  Running command git clone --filter=blob:none --quiet https://github.com/facebookresearch/segment-anything.git /tmp/pip-req-build-zi68oodo\n",
      "  Resolved https://github.com/facebookresearch/segment-anything.git to commit dca509fe793f601edb92606367a655c15ac00fdf\n",
      "  Preparing metadata (setup.py) ... \u001b[?25ldone\n",
      "\u001b[?25h"
     ]
    }
   ],
   "source": [
    "!pip install git+https://github.com/facebookresearch/segment-anything.git"
   ]
  },
  {
   "cell_type": "code",
   "execution_count": 3,
   "id": "004d63c4",
   "metadata": {},
   "outputs": [
    {
     "name": "stdout",
     "output_type": "stream",
     "text": [
      "--2025-06-05 16:45:31--  https://dl.fbaipublicfiles.com/segment_anything/sam_vit_h_4b8939.pth\n",
      "dl.fbaipublicfiles.com (dl.fbaipublicfiles.com) 해석 중... 3.168.167.101, 3.168.167.7, 3.168.167.13, ...\n",
      "다음으로 연결 중: dl.fbaipublicfiles.com (dl.fbaipublicfiles.com)|3.168.167.101|:443... 연결했습니다.\n",
      "HTTP 요청을 보냈습니다. 응답 기다리는 중... 200 OK\n",
      "길이: 2564550879 (2.4G) [binary/octet-stream]\n",
      "저장 위치: ‘sam_vit_h_4b8939.pth’\n",
      "\n",
      "sam_vit_h_4b8939.pt 100%[===================>]   2.39G  82.1MB/s    / 51s      \n",
      "\n",
      "2025-06-05 16:46:24 (47.7 MB/s) - ‘sam_vit_h_4b8939.pth’ 저장함 [2564550879/2564550879]\n",
      "\n"
     ]
    }
   ],
   "source": [
    "!wget -c https://dl.fbaipublicfiles.com/segment_anything/sam_vit_h_4b8939.pth"
   ]
  },
  {
   "cell_type": "code",
   "execution_count": 5,
   "id": "ae5ac646",
   "metadata": {},
   "outputs": [
    {
     "name": "stdout",
     "output_type": "stream",
     "text": [
      "--2025-06-05 16:46:42--  https://raw.githubusercontent.com/spmallick/learnopencv/refs/heads/master/Segment-Anything-A-Foundation-Model-for-Image-Segmentation/input/image_4.jpg\n",
      "raw.githubusercontent.com (raw.githubusercontent.com) 해석 중... 185.199.108.133, 185.199.111.133, 185.199.110.133, ...\n",
      "다음으로 연결 중: raw.githubusercontent.com (raw.githubusercontent.com)|185.199.108.133|:443... 연결했습니다.\n",
      "HTTP 요청을 보냈습니다. 응답 기다리는 중... 200 OK\n",
      "길이: 22018 (22K) [image/jpeg]\n",
      "저장 위치: ‘image_4.jpg’\n",
      "\n",
      "image_4.jpg         100%[===================>]  21.50K  --.-KB/s    / 0s       \n",
      "\n",
      "2025-06-05 16:46:44 (76.4 MB/s) - ‘image_4.jpg’ 저장함 [22018/22018]\n",
      "\n",
      "--2025-06-05 16:46:44--  https://raw.githubusercontent.com/spmallick/learnopencv/refs/heads/master/Segment-Anything-A-Foundation-Model-for-Image-Segmentation/input/image_3.jpg\n",
      "raw.githubusercontent.com (raw.githubusercontent.com) 해석 중... 185.199.108.133, 185.199.109.133, 185.199.111.133, ...\n",
      "다음으로 연결 중: raw.githubusercontent.com (raw.githubusercontent.com)|185.199.108.133|:443... 연결했습니다.\n",
      "HTTP 요청을 보냈습니다. 응답 기다리는 중... 200 OK\n",
      "길이: 404643 (395K) [image/jpeg]\n",
      "저장 위치: ‘image_3.jpg’\n",
      "\n",
      "image_3.jpg         100%[===================>] 395.16K  --.-KB/s    / 0.01s    \n",
      "\n",
      "2025-06-05 16:46:45 (26.3 MB/s) - ‘image_3.jpg’ 저장함 [404643/404643]\n",
      "\n"
     ]
    }
   ],
   "source": [
    "!wget https://raw.githubusercontent.com/spmallick/learnopencv/refs/heads/master/Segment-Anything-A-Foundation-Model-for-Image-Segmentation/input/image_4.jpg\n",
    "!wget https://raw.githubusercontent.com/spmallick/learnopencv/refs/heads/master/Segment-Anything-A-Foundation-Model-for-Image-Segmentation/input/image_3.jpg"
   ]
  },
  {
   "cell_type": "code",
   "execution_count": 2,
   "id": "9c32c48d",
   "metadata": {},
   "outputs": [],
   "source": [
    "import cv2\n",
    "import matplotlib.pyplot as plt\n",
    "import numpy as np\n",
    "from segment_anything import SamAutomaticMaskGenerator, sam_model_registry\n",
    "import os"
   ]
  },
  {
   "cell_type": "code",
   "execution_count": 3,
   "id": "88c228da",
   "metadata": {},
   "outputs": [],
   "source": [
    "def show_anns(anns):\n",
    "    if len(anns) == 0:\n",
    "        return\n",
    "    sorted_anns = sorted(anns, key=(lambda x: x[\"area\"]), reverse=True)\n",
    "    ax = plt.gca()\n",
    "    ax.set_autoscale_on(False)\n",
    "    for ann in sorted_anns:\n",
    "        m = ann[\"segmentation\"]\n",
    "        img = np.ones((m.shape[0], m.shape[1], 3))\n",
    "        color_mask = np.random.random((1, 3)).tolist()[0]\n",
    "        for i in range(3):\n",
    "            img[:, :, i] = color_mask[i]\n",
    "        np.dstack((img, m * 0.35))\n",
    "        ax.imshow(np.dstack((img, m * 0.35)))"
   ]
  },
  {
   "cell_type": "code",
   "execution_count": null,
   "id": "6ecd7419",
   "metadata": {},
   "outputs": [
    {
     "ename": "",
     "evalue": "",
     "output_type": "error",
     "traceback": [
      "\u001b[1;31mThe Kernel crashed while executing code in the current cell or a previous cell. \n",
      "\u001b[1;31mPlease review the code in the cell(s) to identify a possible cause of the failure. \n",
      "\u001b[1;31mClick <a href='https://aka.ms/vscodeJupyterKernelCrash'>here</a> for more info. \n",
      "\u001b[1;31mView Jupyter <a href='command:jupyter.viewOutput'>log</a> for further details."
     ]
    }
   ],
   "source": [
    "sam = sam_model_registry[\"vit_h\"](checkpoint=\"/home/aa/Big2025/opencv/part6/sam_vit_h_4b8939.pth\")\n",
    "# sam.cuda()\n",
    "sam.to(\"cpu\")  # 명시적으로 CPU 사용 - 커널문제로 수정(cpu)\n",
    "mask_generator = SamAutomaticMaskGenerator(sam)\n",
    "\n",
    "image_path = \"image_3.jpg\"\n",
    "image_name = image_path.split(os.path.sep)[-1]\n",
    "image = cv2.imread(image_path)\n",
    "image = cv2.cvtColor(image, cv2.COLOR_BGR2RGB)\n",
    "image = cv2.resize(image, (512, 512))  # 또는 (768, 768) - 커널문제로 수정(cpu)\n",
    "masks = mask_generator.generate(image)\n",
    "plt.figure(figsize=(12, 9))\n",
    "plt.imshow(image)\n",
    "show_anns(masks)\n",
    "plt.axis(\"off\")\n",
    "plt.savefig(os.path.join(\"outputs\", image_name), bbox_inches=\"tight\")"
   ]
  }
 ],
 "metadata": {
  "kernelspec": {
   "display_name": "Python 3",
   "language": "python",
   "name": "python3"
  },
  "language_info": {
   "codemirror_mode": {
    "name": "ipython",
    "version": 3
   },
   "file_extension": ".py",
   "mimetype": "text/x-python",
   "name": "python",
   "nbconvert_exporter": "python",
   "pygments_lexer": "ipython3",
   "version": "3.10.12"
  }
 },
 "nbformat": 4,
 "nbformat_minor": 5
}
